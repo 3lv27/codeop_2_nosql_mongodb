{
 "cells": [
  {
   "cell_type": "code",
   "execution_count": null,
   "id": "0b2e120d-f667-4643-aad7-077e4185f099",
   "metadata": {},
   "outputs": [],
   "source": [
    "from pymongo import MongoClient"
   ]
  },
  {
   "cell_type": "markdown",
   "id": "67c1bd36-d285-467e-9317-a94fa2b26dba",
   "metadata": {},
   "source": [
    "Establishing connection to the **mflix** db"
   ]
  },
  {
   "cell_type": "code",
   "execution_count": null,
   "id": "3edc3c55-f399-487b-99be-c2cd82e1140e",
   "metadata": {},
   "outputs": [],
   "source": [
    "client = MongoClient(\"mongodb\", username=\"root\",password=\"codeop\")\n",
    "db = client[\"mflix\"]"
   ]
  },
  {
   "cell_type": "markdown",
   "id": "f042dfe5-c9ac-4c05-99f8-b248d7b29e30",
   "metadata": {},
   "source": [
    "Checking the connection"
   ]
  },
  {
   "cell_type": "code",
   "execution_count": null,
   "id": "b77eefe3-ed85-4edd-916d-32d66ce77ff9",
   "metadata": {},
   "outputs": [],
   "source": [
    "print(\"Total number of documents in the 'users' collection: \", db.users.count_documents({}))"
   ]
  },
  {
   "cell_type": "code",
   "execution_count": null,
   "id": "c0704c7e-6321-4620-b78a-d6c24654b2de",
   "metadata": {},
   "outputs": [],
   "source": [
    "print(db.users.find_one())"
   ]
  },
  {
   "cell_type": "code",
   "execution_count": null,
   "id": "fc975df7-c195-4f9e-a89f-5572b3aaf578",
   "metadata": {},
   "outputs": [],
   "source": [
    "# List all the collections in our db\n",
    "db.list_collection_names()"
   ]
  },
  {
   "cell_type": "raw",
   "id": "6184844f-7a43-4158-99e2-21866d54df17",
   "metadata": {},
   "source": [
    "SELECT * FROM comments LIMIT 3"
   ]
  },
  {
   "cell_type": "code",
   "execution_count": null,
   "id": "347b2ed1-1f5b-4f88-b64f-008d4776d874",
   "metadata": {},
   "outputs": [],
   "source": [
    "comments = db.comments.find({}).limit(3)"
   ]
  },
  {
   "cell_type": "code",
   "execution_count": null,
   "id": "90763818-c614-44d6-ab32-cca5b5619071",
   "metadata": {},
   "outputs": [],
   "source": [
    "# Printing the results from our cursor\n",
    "for comment in comments:\n",
    "    print(comment)"
   ]
  },
  {
   "cell_type": "markdown",
   "id": "0fbd837f-c342-4713-8efb-d2a372bd8f3a",
   "metadata": {},
   "source": [
    "##### Aggregation framework"
   ]
  },
  {
   "cell_type": "code",
   "execution_count": null,
   "id": "23d1216f-de68-480d-9669-782bb8f3d9a8",
   "metadata": {},
   "outputs": [],
   "source": [
    "#Total number of movies within the genre Animation, grouped by rating type\n",
    "movies = db.movies.aggregate([\n",
    "    { \"$match\" : { \"genres\" : {\"$in\": [\"Animation\"]} } },\n",
    "    { \"$group\" : { \"_id\" : '$rated', \"totaldocs\" : { \"$sum\" : 1 } } }\n",
    "])"
   ]
  },
  {
   "cell_type": "code",
   "execution_count": null,
   "id": "551e9660-1df4-4829-8ecc-870587ee1fbf",
   "metadata": {},
   "outputs": [],
   "source": [
    "for movie in movies:\n",
    "    print(movie)"
   ]
  },
  {
   "cell_type": "markdown",
   "id": "d3904491-8889-459a-87d5-ea5eb52e5835",
   "metadata": {},
   "source": [
    "## Questions to solve"
   ]
  },
  {
   "cell_type": "markdown",
   "id": "086f5b90-aa11-4a40-a440-7f1fdd96cabd",
   "metadata": {},
   "source": [
    "#### 1. Show all documents for movies produced in 1932 such that either their genre is drama, or they are in French language"
   ]
  },
  {
   "cell_type": "code",
   "execution_count": null,
   "id": "0158f2e7-f48f-4da8-b78e-57927c92f147",
   "metadata": {},
   "outputs": [],
   "source": []
  },
  {
   "cell_type": "markdown",
   "id": "0825d902-6939-421b-8570-ad8e33d38b0a",
   "metadata": {},
   "source": [
    "#### 2. Show all documents from US movies that have between 5 and 9 award winnings and produced between 2012 - 2014 (inclusive)"
   ]
  },
  {
   "cell_type": "code",
   "execution_count": null,
   "id": "5d9393b0-b9a3-45d4-8e93-f0707d135628",
   "metadata": {},
   "outputs": [],
   "source": []
  },
  {
   "cell_type": "markdown",
   "id": "8251b22e-69f0-4731-ac54-b880f2ee4016",
   "metadata": {},
   "source": [
    "#### 3. Show all documents for theaters locates inside the \"DC\" state"
   ]
  },
  {
   "cell_type": "code",
   "execution_count": null,
   "id": "69a3bc61-c74b-453c-a8fe-c1ebe741617f",
   "metadata": {},
   "outputs": [],
   "source": []
  },
  {
   "cell_type": "markdown",
   "id": "cc22fded-2255-4d94-a6cd-49d3323fbd00",
   "metadata": {},
   "source": [
    "#### 4. Find all movies directed by John Landis with an IMDB rating of between 7,5 and 8"
   ]
  },
  {
   "cell_type": "code",
   "execution_count": null,
   "id": "b3dd44e3-4dc2-47a4-bcdf-36c0c21b642d",
   "metadata": {},
   "outputs": [],
   "source": []
  },
  {
   "cell_type": "markdown",
   "id": "11cabaac-888f-4cff-8c2e-034eaa65865f",
   "metadata": {},
   "source": [
    "#### 5. Count how many movies are available within the German language"
   ]
  },
  {
   "cell_type": "code",
   "execution_count": null,
   "id": "fc310c66-644e-4af4-91ba-6611d5555c0c",
   "metadata": {},
   "outputs": [],
   "source": []
  },
  {
   "cell_type": "markdown",
   "id": "8875429b-7bf9-4269-9022-f97a67460cd1",
   "metadata": {},
   "source": [
    "#### 6. Apply the same operation as before using the aggregation framework"
   ]
  },
  {
   "cell_type": "code",
   "execution_count": null,
   "id": "dd306755-6a22-4318-b2f7-c30adc5d293a",
   "metadata": {},
   "outputs": [],
   "source": []
  },
  {
   "cell_type": "markdown",
   "id": "1260d5c7",
   "metadata": {},
   "source": [
    "#### 7. Count how many comments are written by a user using \"GAMEOFTHRON.ES\" as email domain."
   ]
  },
  {
   "cell_type": "code",
   "execution_count": null,
   "id": "2f198a37",
   "metadata": {},
   "outputs": [],
   "source": []
  },
  {
   "cell_type": "markdown",
   "id": "670da807",
   "metadata": {},
   "source": [
    "#### 8. Count how many different users with differents names we have"
   ]
  }
 ],
 "metadata": {
  "kernelspec": {
   "display_name": "Python 3 (ipykernel)",
   "language": "python",
   "name": "python3"
  },
  "language_info": {
   "codemirror_mode": {
    "name": "ipython",
    "version": 3
   },
   "file_extension": ".py",
   "mimetype": "text/x-python",
   "name": "python",
   "nbconvert_exporter": "python",
   "pygments_lexer": "ipython3",
   "version": "3.9.10"
  }
 },
 "nbformat": 4,
 "nbformat_minor": 5
}
